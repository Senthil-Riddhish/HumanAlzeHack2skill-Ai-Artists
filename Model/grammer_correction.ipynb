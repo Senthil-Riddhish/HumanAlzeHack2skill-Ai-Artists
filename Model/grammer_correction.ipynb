{
  "cells": [
    {
      "cell_type": "code",
      "execution_count": 1,
      "metadata": {
        "id": "bgx7h2gyP1dP"
      },
      "outputs": [],
      "source": [
        "import pandas as pd\n",
        "import numpy as np\n",
        "import tensorflow as tf\n",
        "from tensorflow.keras.preprocessing.text import Tokenizer\n",
        "from tensorflow.keras.preprocessing.sequence import pad_sequences\n",
        "from tensorflow.keras.models import Model\n",
        "from tensorflow.keras.layers import Input, LSTM, Embedding, Dense"
      ]
    },
    {
      "cell_type": "code",
      "execution_count": 2,
      "metadata": {
        "id": "oR9L4iTlQjcf"
      },
      "outputs": [],
      "source": [
        "data = pd.read_csv('/5cb9119d-9763-4604-bc0b-0d5bbf758c2e-Grammar Correction.csv')"
      ]
    },
    {
      "cell_type": "code",
      "execution_count": 3,
      "metadata": {
        "id": "2ogXxwo6QjXH"
      },
      "outputs": [],
      "source": [
        "tokenizer = Tokenizer()\n",
        "tokenizer.fit_on_texts(data['Ungrammatical Statement'] + data['Standard English'])"
      ]
    },
    {
      "cell_type": "code",
      "execution_count": 4,
      "metadata": {
        "id": "xvf5s0oPQjQZ"
      },
      "outputs": [],
      "source": [
        "input_sequences = tokenizer.texts_to_sequences(data['Ungrammatical Statement'])\n",
        "target_sequences = tokenizer.texts_to_sequences(data['Standard English'])"
      ]
    },
    {
      "cell_type": "code",
      "execution_count": 5,
      "metadata": {
        "id": "mV0MPLZCRdi5"
      },
      "outputs": [],
      "source": [
        "max_len = max(max(len(seq) for seq in input_sequences), max(len(seq) for seq in target_sequences))\n",
        "input_sequences = pad_sequences(input_sequences, maxlen=max_len, padding='post')\n",
        "target_sequences = pad_sequences(target_sequences, maxlen=max_len, padding='post')"
      ]
    },
    {
      "cell_type": "code",
      "execution_count": 6,
      "metadata": {
        "id": "CDGsQRIRRdgY"
      },
      "outputs": [],
      "source": [
        "vocab_size = len(tokenizer.word_index) + 1\n",
        "embedding_dim = 256\n",
        "latent_dim = 512"
      ]
    },
    {
      "cell_type": "code",
      "execution_count": 7,
      "metadata": {
        "id": "r_14TgvCRdek"
      },
      "outputs": [],
      "source": [
        "encoder_inputs = Input(shape=(None,))\n",
        "enc_emb = Embedding(vocab_size, embedding_dim)(encoder_inputs)\n",
        "encoder_lstm = LSTM(latent_dim, return_state=True)\n",
        "_, state_h, state_c = encoder_lstm(enc_emb)\n",
        "encoder_states = [state_h, state_c]"
      ]
    },
    {
      "cell_type": "code",
      "execution_count": 8,
      "metadata": {
        "id": "CVPkRSZSRdcB"
      },
      "outputs": [],
      "source": [
        "decoder_inputs = Input(shape=(None,))\n",
        "dec_emb_layer = Embedding(vocab_size, embedding_dim)\n",
        "dec_emb = dec_emb_layer(decoder_inputs)\n",
        "decoder_lstm = LSTM(latent_dim, return_sequences=True, return_state=True)\n",
        "decoder_outputs, _, _ = decoder_lstm(dec_emb, initial_state=encoder_states)\n",
        "decoder_dense = Dense(vocab_size, activation='softmax')\n",
        "decoder_outputs = decoder_dense(decoder_outputs)"
      ]
    },
    {
      "cell_type": "code",
      "execution_count": 9,
      "metadata": {
        "id": "j1j9NRKFRdZv"
      },
      "outputs": [],
      "source": [
        "model = Model([encoder_inputs, decoder_inputs], decoder_outputs)"
      ]
    },
    {
      "cell_type": "code",
      "execution_count": 10,
      "metadata": {
        "id": "1wJ_7vq_RdXC"
      },
      "outputs": [],
      "source": [
        "model.compile(optimizer='rmsprop', loss='sparse_categorical_crossentropy')"
      ]
    },
    {
      "cell_type": "code",
      "execution_count": 11,
      "metadata": {
        "id": "WaL1mX-TRqMH"
      },
      "outputs": [],
      "source": [
        "target_sequences = np.expand_dims(target_sequences, -1)"
      ]
    },
    {
      "cell_type": "code",
      "execution_count": 13,
      "metadata": {
        "colab": {
          "base_uri": "https://localhost:8080/"
        },
        "id": "NQazWjqPRqJv",
        "outputId": "9d19333d-5d07-48f5-a3d7-65f9c6bb1749"
      },
      "outputs": [
        {
          "name": "stdout",
          "output_type": "stream",
          "text": [
            "Epoch 1/50\n",
            "26/26 [==============================] - 36s 1s/step - loss: 2.6225 - val_loss: 3.2032\n",
            "Epoch 2/50\n",
            "26/26 [==============================] - 37s 1s/step - loss: 2.5467 - val_loss: 3.1689\n",
            "Epoch 3/50\n",
            "26/26 [==============================] - 38s 1s/step - loss: 2.5051 - val_loss: 3.0466\n",
            "Epoch 4/50\n",
            "26/26 [==============================] - 38s 1s/step - loss: 2.4682 - val_loss: 3.0811\n",
            "Epoch 5/50\n",
            "26/26 [==============================] - 35s 1s/step - loss: 2.4109 - val_loss: 3.0059\n",
            "Epoch 6/50\n",
            "26/26 [==============================] - 38s 1s/step - loss: 2.3873 - val_loss: 3.0222\n",
            "Epoch 7/50\n",
            "26/26 [==============================] - 35s 1s/step - loss: 2.3427 - val_loss: 2.9695\n",
            "Epoch 8/50\n",
            "26/26 [==============================] - 38s 1s/step - loss: 2.3075 - val_loss: 2.9853\n",
            "Epoch 9/50\n",
            "26/26 [==============================] - 35s 1s/step - loss: 2.2761 - val_loss: 3.0102\n",
            "Epoch 10/50\n",
            "26/26 [==============================] - 38s 1s/step - loss: 2.2563 - val_loss: 2.9625\n",
            "Epoch 11/50\n",
            "26/26 [==============================] - 35s 1s/step - loss: 2.2339 - val_loss: 2.9939\n",
            "Epoch 12/50\n",
            "26/26 [==============================] - 38s 1s/step - loss: 2.2037 - val_loss: 2.9538\n",
            "Epoch 13/50\n",
            "26/26 [==============================] - 37s 1s/step - loss: 2.1746 - val_loss: 3.0141\n",
            "Epoch 14/50\n",
            "26/26 [==============================] - 35s 1s/step - loss: 2.1469 - val_loss: 2.9799\n",
            "Epoch 15/50\n",
            "26/26 [==============================] - 38s 1s/step - loss: 2.1085 - val_loss: 2.8913\n",
            "Epoch 16/50\n",
            "26/26 [==============================] - 36s 1s/step - loss: 2.0818 - val_loss: 2.8893\n",
            "Epoch 17/50\n",
            "26/26 [==============================] - 38s 1s/step - loss: 2.0522 - val_loss: 2.9125\n",
            "Epoch 18/50\n",
            "26/26 [==============================] - 36s 1s/step - loss: 2.0193 - val_loss: 2.9468\n",
            "Epoch 19/50\n",
            "26/26 [==============================] - 38s 1s/step - loss: 1.9936 - val_loss: 2.9196\n",
            "Epoch 20/50\n",
            "26/26 [==============================] - 37s 1s/step - loss: 1.9628 - val_loss: 2.9470\n",
            "Epoch 21/50\n",
            "26/26 [==============================] - 37s 1s/step - loss: 1.9352 - val_loss: 2.9445\n",
            "Epoch 22/50\n",
            "26/26 [==============================] - 35s 1s/step - loss: 1.9123 - val_loss: 2.9342\n",
            "Epoch 23/50\n",
            "26/26 [==============================] - 35s 1s/step - loss: 1.8856 - val_loss: 2.8833\n",
            "Epoch 24/50\n",
            "26/26 [==============================] - 37s 1s/step - loss: 1.8590 - val_loss: 2.9251\n",
            "Epoch 25/50\n",
            "26/26 [==============================] - 35s 1s/step - loss: 1.8305 - val_loss: 2.8548\n",
            "Epoch 26/50\n",
            "26/26 [==============================] - 37s 1s/step - loss: 1.8092 - val_loss: 2.8683\n",
            "Epoch 27/50\n",
            "26/26 [==============================] - 35s 1s/step - loss: 2.1636 - val_loss: 2.8275\n",
            "Epoch 28/50\n",
            "26/26 [==============================] - 38s 1s/step - loss: 1.8386 - val_loss: 2.8448\n",
            "Epoch 29/50\n",
            "26/26 [==============================] - 36s 1s/step - loss: 1.7718 - val_loss: 2.8737\n",
            "Epoch 30/50\n",
            "26/26 [==============================] - 35s 1s/step - loss: 1.7376 - val_loss: 2.8201\n",
            "Epoch 31/50\n",
            "26/26 [==============================] - 37s 1s/step - loss: 1.7094 - val_loss: 2.8520\n",
            "Epoch 32/50\n",
            "26/26 [==============================] - 37s 1s/step - loss: 1.6845 - val_loss: 2.9372\n",
            "Epoch 33/50\n",
            "26/26 [==============================] - 39s 2s/step - loss: 1.6663 - val_loss: 2.8392\n",
            "Epoch 34/50\n",
            "26/26 [==============================] - 37s 1s/step - loss: 1.6340 - val_loss: 2.8523\n",
            "Epoch 35/50\n",
            "26/26 [==============================] - 39s 1s/step - loss: 1.6120 - val_loss: 2.8289\n",
            "Epoch 36/50\n",
            "26/26 [==============================] - 38s 1s/step - loss: 1.5849 - val_loss: 2.8342\n",
            "Epoch 37/50\n",
            "26/26 [==============================] - 38s 1s/step - loss: 1.5566 - val_loss: 2.9067\n",
            "Epoch 38/50\n",
            "26/26 [==============================] - 36s 1s/step - loss: 1.5471 - val_loss: 2.8188\n",
            "Epoch 39/50\n",
            "26/26 [==============================] - 39s 1s/step - loss: 1.5092 - val_loss: 2.8093\n",
            "Epoch 40/50\n",
            "26/26 [==============================] - 37s 1s/step - loss: 1.4846 - val_loss: 2.8353\n",
            "Epoch 41/50\n",
            "26/26 [==============================] - 40s 2s/step - loss: 1.4598 - val_loss: 2.8207\n",
            "Epoch 42/50\n",
            "26/26 [==============================] - 37s 1s/step - loss: 1.4362 - val_loss: 2.8324\n",
            "Epoch 43/50\n",
            "26/26 [==============================] - 38s 1s/step - loss: 1.4112 - val_loss: 2.8041\n",
            "Epoch 44/50\n",
            "26/26 [==============================] - 39s 2s/step - loss: 1.3888 - val_loss: 2.8389\n",
            "Epoch 45/50\n",
            "26/26 [==============================] - 38s 1s/step - loss: 1.3584 - val_loss: 2.8352\n",
            "Epoch 46/50\n",
            "26/26 [==============================] - 40s 2s/step - loss: 1.3369 - val_loss: 2.8417\n",
            "Epoch 47/50\n",
            "26/26 [==============================] - 37s 1s/step - loss: 1.3164 - val_loss: 2.8318\n",
            "Epoch 48/50\n",
            "26/26 [==============================] - 39s 2s/step - loss: 1.2850 - val_loss: 2.8357\n",
            "Epoch 49/50\n",
            "26/26 [==============================] - 35s 1s/step - loss: 1.2614 - val_loss: 2.8396\n",
            "Epoch 50/50\n",
            "26/26 [==============================] - 38s 1s/step - loss: 1.2439 - val_loss: 2.8925\n"
          ]
        },
        {
          "data": {
            "text/plain": [
              "<keras.src.callbacks.History at 0x783579fa1ea0>"
            ]
          },
          "execution_count": 13,
          "metadata": {},
          "output_type": "execute_result"
        }
      ],
      "source": [
        "model.fit([input_sequences, input_sequences], target_sequences, batch_size=64, epochs=50, validation_split=0.2)"
      ]
    },
    {
      "cell_type": "code",
      "execution_count": 14,
      "metadata": {
        "colab": {
          "base_uri": "https://localhost:8080/"
        },
        "id": "F1crybN-RqHw",
        "outputId": "d54a3893-3281-420c-e73a-0c2f0c13c348"
      },
      "outputs": [
        {
          "name": "stderr",
          "output_type": "stream",
          "text": [
            "/usr/local/lib/python3.10/dist-packages/keras/src/engine/training.py:3103: UserWarning: You are saving your model as an HDF5 file via `model.save()`. This file format is considered legacy. We recommend using instead the native Keras format, e.g. `model.save('my_model.keras')`.\n",
            "  saving_api.save_model(\n"
          ]
        }
      ],
      "source": [
        "model.save('grammar_correction_model.h5')"
      ]
    },
    {
      "cell_type": "code",
      "execution_count": 15,
      "metadata": {
        "id": "zqdxGVMJRqFR"
      },
      "outputs": [],
      "source": [
        "model = tf.keras.models.load_model('grammar_correction_model.h5')"
      ]
    },
    {
      "cell_type": "code",
      "execution_count": 16,
      "metadata": {
        "id": "RBcaGYycfDW2"
      },
      "outputs": [],
      "source": [
        "encoder_inputs = model.input[0]  # input_1\n",
        "encoder_emb = model.layers[2](encoder_inputs)  # embedding_1\n",
        "_, state_h_enc, state_c_enc = model.layers[4](encoder_emb)  # lstm_1\n",
        "encoder_states = [state_h_enc, state_c_enc]"
      ]
    },
    {
      "cell_type": "code",
      "execution_count": 17,
      "metadata": {
        "id": "4rQ24vuifDNN"
      },
      "outputs": [],
      "source": [
        "encoder_model = Model(encoder_inputs, encoder_states)"
      ]
    },
    {
      "cell_type": "code",
      "execution_count": 18,
      "metadata": {
        "id": "1dAZFNHDfDEe"
      },
      "outputs": [],
      "source": [
        "decoder_inputs = model.input[1]  # input_2\n",
        "decoder_state_input_h = Input(shape=(latent_dim,), name='input_3')\n",
        "decoder_state_input_c = Input(shape=(latent_dim,), name='input_4')\n",
        "decoder_states_inputs = [decoder_state_input_h, decoder_state_input_c]"
      ]
    },
    {
      "cell_type": "code",
      "execution_count": 19,
      "metadata": {
        "id": "Wr4v55TMfC5W"
      },
      "outputs": [],
      "source": [
        "dec_emb_layer = model.layers[3]\n",
        "dec_emb2 = dec_emb_layer(decoder_inputs)\n",
        "\n",
        "decoder_lstm = model.layers[5]\n",
        "decoder_outputs2, state_h_dec2, state_c_dec2 = decoder_lstm(\n",
        "    dec_emb2, initial_state=decoder_states_inputs)\n",
        "decoder_states2 = [state_h_dec2, state_c_dec2]\n",
        "decoder_dense = model.layers[6]\n",
        "decoder_outputs2 = decoder_dense(decoder_outputs2)\n",
        "\n",
        "decoder_model = Model(\n",
        "    [decoder_inputs] + decoder_states_inputs,\n",
        "    [decoder_outputs2] + decoder_states2)"
      ]
    },
    {
      "cell_type": "code",
      "execution_count": 23,
      "metadata": {
        "id": "PNK__btMfPFt"
      },
      "outputs": [],
      "source": [
        "def decode_sequence(input_seq):\n",
        "    # Encode the input as state vectors.\n",
        "    states_value = encoder_model.predict(input_seq)\n",
        "\n",
        "    # Generate empty target sequence of length 1.\n",
        "    target_seq = np.zeros((1, 1))\n",
        "\n",
        "    # Populate the first token of target sequence with the start token.\n",
        "    target_token = 'starttoken'\n",
        "    target_seq[0, 0] = tokenizer.word_index.get(target_token, 0)\n",
        "\n",
        "    stop_condition = False\n",
        "    decoded_sentence = ''\n",
        "    while not stop_condition:\n",
        "        output_tokens, h, c = decoder_model.predict([target_seq] + states_value)\n",
        "\n",
        "        # Sample a token\n",
        "        sampled_token_index = np.argmax(output_tokens[0, -1, :])\n",
        "        sampled_token = tokenizer.index_word.get(sampled_token_index, '')\n",
        "\n",
        "        if sampled_token == 'endtoken' or len(decoded_sentence) > max_len:\n",
        "            stop_condition = True\n",
        "        else:\n",
        "            decoded_sentence += ' ' + sampled_token\n",
        "\n",
        "        # Update the target sequence (of length 1).\n",
        "        target_seq = np.zeros((1, 1))\n",
        "        target_seq[0, 0] = sampled_token_index\n",
        "\n",
        "        # Update states\n",
        "        states_value = [h, c]\n",
        "\n",
        "    return decoded_sentence\n",
        "\n",
        "# Test the model with a new input\n",
        "def correct_grammar(input_sentence):\n",
        "    input_seq = tokenizer.texts_to_sequences([input_sentence])\n",
        "    input_seq = pad_sequences(input_seq, maxlen=max_len, padding='post')\n",
        "    decoded_sentence = decode_sequence(input_seq)\n",
        "    return decoded_sentence.strip()"
      ]
    },
    {
      "cell_type": "code",
      "execution_count": 26,
      "metadata": {
        "colab": {
          "base_uri": "https://localhost:8080/",
          "height": 17
        },
        "id": "fZ30WAOmpIEh",
        "outputId": "013061e0-41e7-46d0-ee61-b40435e11511"
      },
      "outputs": [
        {
          "data": {
            "application/javascript": "\n    async function download(id, filename, size) {\n      if (!google.colab.kernel.accessAllowed) {\n        return;\n      }\n      const div = document.createElement('div');\n      const label = document.createElement('label');\n      label.textContent = `Downloading \"${filename}\": `;\n      div.appendChild(label);\n      const progress = document.createElement('progress');\n      progress.max = size;\n      div.appendChild(progress);\n      document.body.appendChild(div);\n\n      const buffers = [];\n      let downloaded = 0;\n\n      const channel = await google.colab.kernel.comms.open(id);\n      // Send a message to notify the kernel that we're ready.\n      channel.send({})\n\n      for await (const message of channel.messages) {\n        // Send a message to notify the kernel that we're ready.\n        channel.send({})\n        if (message.buffers) {\n          for (const buffer of message.buffers) {\n            buffers.push(buffer);\n            downloaded += buffer.byteLength;\n            progress.value = downloaded;\n          }\n        }\n      }\n      const blob = new Blob(buffers, {type: 'application/binary'});\n      const a = document.createElement('a');\n      a.href = window.URL.createObjectURL(blob);\n      a.download = filename;\n      div.appendChild(a);\n      a.click();\n      div.remove();\n    }\n  ",
            "text/plain": [
              "<IPython.core.display.Javascript object>"
            ]
          },
          "metadata": {},
          "output_type": "display_data"
        },
        {
          "data": {
            "application/javascript": "download(\"download_4901f67a-5567-412e-8420-e5dd971f17b5\", \"grammar_correction_model.pkl\", 55323134)",
            "text/plain": [
              "<IPython.core.display.Javascript object>"
            ]
          },
          "metadata": {},
          "output_type": "display_data"
        }
      ],
      "source": [
        "import pickle\n",
        "\n",
        "# Save the model in pickle format\n",
        "with open('grammar_correction_model.pkl', 'wb') as f:\n",
        "    pickle.dump(model, f)\n"
      ]
    }
  ],
  "metadata": {
    "colab": {
      "provenance": []
    },
    "kernelspec": {
      "display_name": "Python 3",
      "name": "python3"
    },
    "language_info": {
      "name": "python"
    }
  },
  "nbformat": 4,
  "nbformat_minor": 0
}
